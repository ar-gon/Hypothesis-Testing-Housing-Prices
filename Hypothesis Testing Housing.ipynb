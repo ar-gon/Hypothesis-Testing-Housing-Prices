{
 "cells": [
  {
   "cell_type": "markdown",
   "metadata": {},
   "source": [
    "\n",
    "**Hypothesis**: Mean housing prices are less effected by recessions in university towns. A t-test is run to compare the ratio of the mean price of houses in university towns the quarter before the recession starts compared to the recession bottom. \n"
   ]
  },
  {
   "cell_type": "code",
   "execution_count": 1,
   "metadata": {
    "collapsed": true
   },
   "outputs": [],
   "source": [
    "import pandas as pd\n",
    "import numpy as np\n",
    "import re\n",
    "from scipy.stats import ttest_ind"
   ]
  },
  {
   "cell_type": "code",
   "execution_count": 2,
   "metadata": {
    "collapsed": true
   },
   "outputs": [],
   "source": [
    "states = {'OH': 'Ohio', 'KY': 'Kentucky', 'AS': 'American Samoa', 'NV': 'Nevada', 'WY': 'Wyoming', 'NA': 'National', 'AL': 'Alabama', 'MD': 'Maryland', 'AK': 'Alaska', 'UT': 'Utah', 'OR': 'Oregon', 'MT': 'Montana', 'IL': 'Illinois', 'TN': 'Tennessee', 'DC': 'District of Columbia', 'VT': 'Vermont', 'ID': 'Idaho', 'AR': 'Arkansas', 'ME': 'Maine', 'WA': 'Washington', 'HI': 'Hawaii', 'WI': 'Wisconsin', 'MI': 'Michigan', 'IN': 'Indiana', 'NJ': 'New Jersey', 'AZ': 'Arizona', 'GU': 'Guam', 'MS': 'Mississippi', 'PR': 'Puerto Rico', 'NC': 'North Carolina', 'TX': 'Texas', 'SD': 'South Dakota', 'MP': 'Northern Mariana Islands', 'IA': 'Iowa', 'MO': 'Missouri', 'CT': 'Connecticut', 'WV': 'West Virginia', 'SC': 'South Carolina', 'LA': 'Louisiana', 'KS': 'Kansas', 'NY': 'New York', 'NE': 'Nebraska', 'OK': 'Oklahoma', 'FL': 'Florida', 'CA': 'California', 'CO': 'Colorado', 'PA': 'Pennsylvania', 'DE': 'Delaware', 'NM': 'New Mexico', 'RI': 'Rhode Island', 'MN': 'Minnesota', 'VI': 'Virgin Islands', 'NH': 'New Hampshire', 'MA': 'Massachusetts', 'GA': 'Georgia', 'ND': 'North Dakota', 'VA': 'Virginia'}\n",
    "inv_states = {v:k for k , v in states.items()}"
   ]
  },
  {
   "cell_type": "code",
   "execution_count": 13,
   "metadata": {},
   "outputs": [],
   "source": [
    "def get_list_of_university_towns():\n",
    "\n",
    "    ut = []\n",
    "    uni_town = open(\"university_towns.txt\",\"r+\")\n",
    "    for lines in uni_town: \n",
    "        ut.append(lines.strip(\"\\n\").strip(\"\\t\"))\n",
    "    ut = list(ut)    \n",
    "\n",
    "    state = []\n",
    "    town = []\n",
    "\n",
    "    for i in range(0,len(ut)):\n",
    "        if \"[ed\" in ut[i]:\n",
    "            st = ut[i] \n",
    "    \n",
    "        else: \n",
    "            tw = ut[i]\n",
    "            town.append(tw)\n",
    "            state.append(st)\n",
    "\n",
    "    df = pd.DataFrame() \n",
    "    df['State'] = state\n",
    "    df['RegionName'] = town\n",
    "    df['State'] = df['State'].apply(lambda x: x.split('[')[0]).map(str.strip)\n",
    "    df['RegionName'] = df['RegionName'].apply(lambda x: x.split('(')[0]).map(str.strip)\n",
    "\n",
    " \n",
    "    return df\n",
    "    \n",
    "    \n",
    "get_list_of_university_towns()\n"
   ]
  },
  {
   "cell_type": "code",
   "execution_count": 4,
   "metadata": {},
   "outputs": [
    {
     "data": {
      "text/plain": [
       "'2008q3'"
      ]
     },
     "execution_count": 4,
     "metadata": {},
     "output_type": "execute_result"
    }
   ],
   "source": [
    "def get_recession_start():\n",
    "    gdp_ot = pd.read_excel('gdplev.xls',skiprows=7).drop([\"Unnamed: 0\",\"Unnamed: 1\",\"Unnamed: 2\",\"Unnamed: 3\",\n",
    "     \"Unnamed: 5\", \"Unnamed: 7\"],axis=1)\n",
    "    gdp_ot = pd.DataFrame(gdp_ot).rename(columns={'Unnamed: 4': 'Year.Q', \"Unnamed: 6\" : 'GDP'})\n",
    "    \n",
    "    gdp_ot = (gdp_ot[list(gdp_ot['Year.Q']).index(\"2000q1\"):len(gdp_ot)]).reset_index(drop=True)\n",
    "    #this will cut out all the rows except iss to the end\n",
    "    gdp = gdp_ot['GDP']\n",
    "    yearq = gdp_ot['Year.Q']\n",
    "    result = []\n",
    "    for i in range(0,len(gdp)-2): \n",
    "        if (gdp[i+1] < gdp[i]) & (gdp[i+2] < gdp[i+1]):\n",
    "            result.append(yearq[i+1])\n",
    "    \n",
    "    recession_start=result[0]\n",
    "    \n",
    "    '''Returns the year and quarter of the recession start time as a \n",
    "    string value in a format such as 2005q3'''\n",
    "    return recession_start\n",
    "    #return gdp_ot[25:len(gdp_ot)]\n",
    "    \n",
    "get_recession_start()"
   ]
  },
  {
   "cell_type": "code",
   "execution_count": 5,
   "metadata": {},
   "outputs": [
    {
     "data": {
      "text/plain": [
       "'2009q4'"
      ]
     },
     "execution_count": 5,
     "metadata": {},
     "output_type": "execute_result"
    }
   ],
   "source": [
    "def get_recession_end():\n",
    "    gdp_ot = pd.read_excel('gdplev.xls',skiprows=7).drop([\"Unnamed: 0\",\"Unnamed: 1\",\"Unnamed: 2\",\"Unnamed: 3\",\n",
    "     \"Unnamed: 5\", \"Unnamed: 7\"],axis=1)\n",
    "    gdp_ot = pd.DataFrame(gdp_ot).rename(columns={'Unnamed: 4': 'Year.Q', \"Unnamed: 6\" : 'GDP'}) \n",
    "    gdp_ot = (gdp_ot[list(gdp_ot['Year.Q']).index(get_recession_start()):len(gdp_ot)]).reset_index(drop=True)\n",
    "    gdp = gdp_ot['GDP']\n",
    "    yearq = gdp_ot['Year.Q']\n",
    "    result = []\n",
    "    for i in range(0,len(gdp)-2): \n",
    "        if (gdp[i+1] > gdp[i]) & (gdp[i+2] > gdp[i+1]):\n",
    "            result.append(yearq[i+2])\n",
    "            \n",
    "    recession_end = result[0]\n",
    "    \n",
    "    \n",
    "    '''Returns the year and quarter of the recession end time as a \n",
    "    string value in a format such as 2005q3'''\n",
    "       \n",
    "    return recession_end\n",
    "\n",
    "get_recession_end()"
   ]
  },
  {
   "cell_type": "code",
   "execution_count": 6,
   "metadata": {},
   "outputs": [
    {
     "data": {
      "text/plain": [
       "'2009q2'"
      ]
     },
     "execution_count": 6,
     "metadata": {},
     "output_type": "execute_result"
    }
   ],
   "source": [
    "def get_recession_bottom():\n",
    "    gdp_ot = pd.read_excel('gdplev.xls',skiprows=7).drop([\"Unnamed: 0\",\"Unnamed: 1\",\"Unnamed: 2\",\"Unnamed: 3\",\n",
    "     \"Unnamed: 5\", \"Unnamed: 7\"],axis=1)\n",
    "    gdp_ot = pd.DataFrame(gdp_ot).rename(columns={'Unnamed: 4': 'Year.Q', \"Unnamed: 6\" : 'GDP'}) \n",
    "    gdp_ot = (gdp_ot[list(gdp_ot['Year.Q']).index(get_recession_start()):list(gdp_ot['Year.Q']).\n",
    "                     index(get_recession_end())]).reset_index(drop=True)\n",
    "    yearQ = gdp_ot['Year.Q']\n",
    "    recession_bottom = yearQ[list(gdp_ot['GDP']).index(np.min(gdp_ot['GDP']))]\n",
    "    \n",
    "    '''Returns the year and quarter of the recession bottom time as a \n",
    "    string value in a format such as 2005q3'''\n",
    "    return recession_bottom\n",
    "\n",
    "get_recession_bottom()\n"
   ]
  },
  {
   "cell_type": "code",
   "execution_count": 14,
   "metadata": {},
   "outputs": [],
   "source": [
    "def convert_housing_data_to_quarters():\n",
    "    hp2 = pd.read_csv(\"City_Zhvi_AllHomes.csv\")\n",
    "    df = pd.DataFrame(hp2)\n",
    "    df['State'] = df['State'].map(states)\n",
    "    df = df.set_index(['State','RegionName'])\n",
    "    df = df.ix[:,'2000-01':]\n",
    "    df.columns = pd.to_datetime(df.columns) \n",
    "    mdf = df.resample('Q',axis=1).mean() #resample Q: quarterly \n",
    "    col = []\n",
    "    for cols in mdf.columns:\n",
    "        cols = '{:}q{:}'.format(cols.year,cols.quarter)\n",
    "        col.append(cols)\n",
    "    mdf.columns = col   \n",
    "     \n",
    "    \n",
    "    return mdf\n",
    "\n",
    "convert_housing_data_to_quarters() "
   ]
  },
  {
   "cell_type": "code",
   "execution_count": 16,
   "metadata": {},
   "outputs": [],
   "source": [
    "def run_ttest():\n",
    "    \n",
    "    hdf = convert_housing_data_to_quarters()\n",
    "    rec_start = get_recession_start()\n",
    "    rec_bottom = get_recession_bottom()\n",
    "    ul = get_list_of_university_towns()\n",
    "    rec_start = get_recession_start() \n",
    "    hdf = convert_housing_data_to_quarters().rename(columns=lambda x: str(x).lower())\n",
    "    \n",
    "    qrt = pd.Series(hdf.columns)\n",
    "    for r in range(0,len(qrt)): \n",
    "        if qrt[r] == rec_start: \n",
    "            i = r \n",
    "            \n",
    "    qrt_before_recession = qrt[i-1]\n",
    "    hdf['PriceRatio'] = hdf[qrt_before_recession].div(hdf[rec_bottom])\n",
    "    ul['State'] = ul['State'].map(str.strip)\n",
    "    ul['RegionName'] = ul['RegionName'].map(str.strip)                                 \n",
    "    arrays = [ul['State'],ul['RegionName']]\n",
    "    tuples = list(zip(*arrays))\n",
    "    index = pd.MultiIndex.from_tuples(tuples, names=['State', 'RegionName'])\n",
    "   \n",
    "    \n",
    "    uni_towns = hdf.loc[hdf.index.isin(tuples)]\n",
    "\n",
    "\n",
    "    non_uni_towns = hdf.loc[~hdf.index.isin(tuples)] \n",
    "    non_uni_towns['Price ratio'] = non_uni_towns[qrt_before_recession].div(non_uni_towns[rec_bottom])\n",
    "    uni_towns['Price ratio'] = uni_towns[qrt_before_recession].div(uni_towns[rec_bottom])\n",
    "    ttest = ttest_ind(non_uni_towns['Price ratio'],uni_towns['Price ratio'],nan_policy='omit')\n",
    "    pvalue = ttest[1]\n",
    "    different = pvalue < 0.01 \n",
    "    compare = uni_towns['Price ratio'].mean() > non_uni_towns['Price ratio'].mean()\n",
    "    if (compare == 'True'):\n",
    "        better = \"non-university town\"\n",
    "    else: \n",
    "        better = \"university town\"\n",
    "    \n",
    "    result = [different,pvalue,better]\n",
    "\n",
    "   \n",
    "    \n",
    "    return result\n",
    "\n",
    "run_ttest() "
   ]
  }
 ],
 "metadata": {
  "coursera": {
   "course_slug": "python-data-analysis",
   "graded_item_id": "Il9Fx",
   "launcher_item_id": "TeDW0",
   "part_id": "WGlun"
  },
  "kernelspec": {
   "display_name": "Python 3",
   "language": "python",
   "name": "python3"
  },
  "language_info": {
   "codemirror_mode": {
    "name": "ipython",
    "version": 3
   },
   "file_extension": ".py",
   "mimetype": "text/x-python",
   "name": "python",
   "nbconvert_exporter": "python",
   "pygments_lexer": "ipython3",
   "version": "3.6.3"
  }
 },
 "nbformat": 4,
 "nbformat_minor": 1
}
